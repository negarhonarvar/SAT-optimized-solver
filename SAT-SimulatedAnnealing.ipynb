{
  "nbformat": 4,
  "nbformat_minor": 0,
  "metadata": {
    "colab": {
      "provenance": [],
      "mount_file_id": "1Y5q8z1mJWpNfSafObLYy5Vpk-1ZYPHlC",
      "authorship_tag": "ABX9TyOtzkIjfrbXW+DGKJk5WAy6",
      "include_colab_link": true
    },
    "kernelspec": {
      "name": "python3",
      "display_name": "Python 3"
    },
    "language_info": {
      "name": "python"
    }
  },
  "cells": [
    {
      "cell_type": "markdown",
      "metadata": {
        "id": "view-in-github",
        "colab_type": "text"
      },
      "source": [
        "<a href=\"https://colab.research.google.com/github/negarhonarvar/SAT-optimized-solver/blob/main/SAT-SimulatedAnnealing.ipynb\" target=\"_parent\"><img src=\"https://colab.research.google.com/assets/colab-badge.svg\" alt=\"Open In Colab\"/></a>"
      ]
    },
    {
      "cell_type": "markdown",
      "source": [
        "# Libraries"
      ],
      "metadata": {
        "id": "KcCPcMR92xKb"
      }
    },
    {
      "cell_type": "code",
      "execution_count": 1,
      "metadata": {
        "colab": {
          "base_uri": "https://localhost:8080/"
        },
        "id": "0kkSMfh107HP",
        "outputId": "e3aca923-1709-4c77-c9ef-59fb2887b738"
      },
      "outputs": [
        {
          "output_type": "stream",
          "name": "stdout",
          "text": [
            "Collecting python-sat\n",
            "  Downloading python_sat-1.8.dev13-cp310-cp310-manylinux_2_12_x86_64.manylinux2010_x86_64.manylinux_2_28_x86_64.whl.metadata (1.5 kB)\n",
            "Requirement already satisfied: six in /usr/local/lib/python3.10/dist-packages (from python-sat) (1.16.0)\n",
            "Downloading python_sat-1.8.dev13-cp310-cp310-manylinux_2_12_x86_64.manylinux2010_x86_64.manylinux_2_28_x86_64.whl (2.7 MB)\n",
            "\u001b[2K   \u001b[90m━━━━━━━━━━━━━━━━━━━━━━━━━━━━━━━━━━━━━━━━\u001b[0m \u001b[32m2.7/2.7 MB\u001b[0m \u001b[31m15.6 MB/s\u001b[0m eta \u001b[36m0:00:00\u001b[0m\n",
            "\u001b[?25hInstalling collected packages: python-sat\n",
            "Successfully installed python-sat-1.8.dev13\n",
            "Requirement already satisfied: numpy in /usr/local/lib/python3.10/dist-packages (1.26.4)\n",
            "Requirement already satisfied: matplotlib in /usr/local/lib/python3.10/dist-packages (3.7.1)\n",
            "Requirement already satisfied: contourpy>=1.0.1 in /usr/local/lib/python3.10/dist-packages (from matplotlib) (1.3.0)\n",
            "Requirement already satisfied: cycler>=0.10 in /usr/local/lib/python3.10/dist-packages (from matplotlib) (0.12.1)\n",
            "Requirement already satisfied: fonttools>=4.22.0 in /usr/local/lib/python3.10/dist-packages (from matplotlib) (4.53.1)\n",
            "Requirement already satisfied: kiwisolver>=1.0.1 in /usr/local/lib/python3.10/dist-packages (from matplotlib) (1.4.7)\n",
            "Requirement already satisfied: numpy>=1.20 in /usr/local/lib/python3.10/dist-packages (from matplotlib) (1.26.4)\n",
            "Requirement already satisfied: packaging>=20.0 in /usr/local/lib/python3.10/dist-packages (from matplotlib) (24.1)\n",
            "Requirement already satisfied: pillow>=6.2.0 in /usr/local/lib/python3.10/dist-packages (from matplotlib) (10.4.0)\n",
            "Requirement already satisfied: pyparsing>=2.3.1 in /usr/local/lib/python3.10/dist-packages (from matplotlib) (3.1.4)\n",
            "Requirement already satisfied: python-dateutil>=2.7 in /usr/local/lib/python3.10/dist-packages (from matplotlib) (2.8.2)\n",
            "Requirement already satisfied: six>=1.5 in /usr/local/lib/python3.10/dist-packages (from python-dateutil>=2.7->matplotlib) (1.16.0)\n"
          ]
        }
      ],
      "source": [
        "!pip install python-sat\n",
        "!pip install numpy\n",
        "!pip install matplotlib"
      ]
    },
    {
      "cell_type": "code",
      "source": [
        "from pysat.formula import CNF\n",
        "import random\n",
        "import math\n",
        "import numpy as np\n",
        "import matplotlib.pyplot as plt"
      ],
      "metadata": {
        "id": "Mja8Pt-N2k-b"
      },
      "execution_count": 2,
      "outputs": []
    },
    {
      "cell_type": "markdown",
      "source": [
        "# Reading the CNF File"
      ],
      "metadata": {
        "id": "rius8PtS20a6"
      }
    },
    {
      "cell_type": "code",
      "source": [
        "def read_cnf_file(file_path):\n",
        "    formula = []\n",
        "    with open(file_path, 'r') as f:\n",
        "        lines = f.readlines()\n",
        "        for line in lines:\n",
        "            if line.startswith('c') or line.startswith('p') or line.strip() == '':\n",
        "                continue\n",
        "\n",
        "            temp_list = line.split()\n",
        "            if len(temp_list) > 0 and temp_list[-1] == '0':\n",
        "                temp_list = temp_list[:-1]  # Remove the trailing 0\n",
        "\n",
        "            clause = []\n",
        "            for literal in temp_list:\n",
        "                num = int(literal)\n",
        "                clause.append((abs(num), 1 if num > 0 else 0))  # 1 for TRUE, 0 for FALSE\n",
        "\n",
        "            formula.append(clause)\n",
        "\n",
        "    return formula"
      ],
      "metadata": {
        "id": "7Tk2KSDn26uQ"
      },
      "execution_count": 10,
      "outputs": []
    },
    {
      "cell_type": "markdown",
      "source": [
        "# Fitness Calculation"
      ],
      "metadata": {
        "id": "SoFZfr-o3C4z"
      }
    },
    {
      "cell_type": "code",
      "source": [
        "def number_of_true(clauses):\n",
        "    true_count = 0\n",
        "    for clause in clauses:\n",
        "        if any(literal[1] == 1 for literal in clause):  # Check if any literal is TRUE\n",
        "            true_count += 1\n",
        "    return true_count"
      ],
      "metadata": {
        "id": "46RoBHH33ADM"
      },
      "execution_count": 4,
      "outputs": []
    },
    {
      "cell_type": "markdown",
      "source": [
        "# Noise Creation"
      ],
      "metadata": {
        "id": "luiDnkJp3I2F"
      }
    },
    {
      "cell_type": "code",
      "source": [
        "def create_noise(sample):\n",
        "    new_sample = sample.copy()\n",
        "    clause_index = random.randrange(len(new_sample))  # we pick a random clause\n",
        "    literal_index = random.randrange(3)  # then a random literal in the clause\n",
        "\n",
        "    # flipping  the truth value of the chosen literal\n",
        "    clause = list(new_sample[clause_index])\n",
        "    clause[literal_index] = (clause[literal_index][0], 1 - clause[literal_index][1])\n",
        "    new_sample[clause_index] = tuple(clause)\n",
        "\n",
        "    return new_sample"
      ],
      "metadata": {
        "id": "r1W6GB0u3OMb"
      },
      "execution_count": 5,
      "outputs": []
    },
    {
      "cell_type": "markdown",
      "source": [
        "# Acceptance Probability Function"
      ],
      "metadata": {
        "id": "0XFRl73S-w9L"
      }
    },
    {
      "cell_type": "code",
      "source": [
        "def check_second_chance(current_fitness, new_fitness, T):\n",
        "    delta_f = new_fitness - current_fitness\n",
        "    if delta_f > 0:\n",
        "        return True\n",
        "    else:\n",
        "        return random.uniform(0, 1) < math.exp(delta_f / T)"
      ],
      "metadata": {
        "id": "XjzCrgSJ-2UA"
      },
      "execution_count": 6,
      "outputs": []
    },
    {
      "cell_type": "markdown",
      "source": [
        "# Simulated Annealing"
      ],
      "metadata": {
        "id": "MD_Q-ohC-8B6"
      }
    },
    {
      "cell_type": "code",
      "source": [
        "def simulated_annealing(cnf_formula, initial_temp, cooling_rate, max_iters):\n",
        "    T = initial_temp\n",
        "    sample = read_cnf_file(cnf_formula)\n",
        "\n",
        "    current_fitness = number_of_true(sample)\n",
        "    best_solution = sample\n",
        "    best_fitness = current_fitness\n",
        "\n",
        "    itr_list = []\n",
        "    fitness_list = []\n",
        "\n",
        "    for i in range(1, max_iters + 1):\n",
        "        itr_list.append(i)\n",
        "\n",
        "        new_sample = create_noise(sample)\n",
        "        new_fitness = number_of_true(new_sample)\n",
        "\n",
        "        if new_fitness > current_fitness or check_second_chance(current_fitness, new_fitness, T):\n",
        "            sample = new_sample\n",
        "            current_fitness = new_fitness\n",
        "\n",
        "        if new_fitness > best_fitness:\n",
        "            best_solution = new_sample\n",
        "            best_fitness = new_fitness\n",
        "\n",
        "\n",
        "        T *= cooling_rate\n",
        "\n",
        "        fitness_list.append(current_fitness)\n",
        "\n",
        "        if best_fitness == len(sample):\n",
        "            break\n",
        "\n",
        "    plt.plot(itr_list, fitness_list)\n",
        "    plt.title('Simulated Annealing Optimization Progress')\n",
        "    plt.xlabel('Iteration')\n",
        "    plt.ylabel('Number of Satisfied Clauses')\n",
        "    plt.show()\n",
        "\n",
        "    return best_solution, best_fitness"
      ],
      "metadata": {
        "id": "2WHAmuJ3-3GY"
      },
      "execution_count": 7,
      "outputs": []
    },
    {
      "cell_type": "markdown",
      "source": [
        "Main"
      ],
      "metadata": {
        "id": "od7ISwPt_UFt"
      }
    },
    {
      "cell_type": "code",
      "source": [
        "initial_temp = 1000\n",
        "cooling_rate = 0.99\n",
        "max_iters = 10000\n",
        "\n",
        "# Replace this with your Google Drive path or other input source\n",
        "path = '/content/drive/MyDrive/Colab Notebooks/Input.cnf'\n",
        "\n",
        "best_solution, best_fitness = simulated_annealing(path, initial_temp, cooling_rate, max_iters)\n",
        "\n",
        "print(f\"Best fitness found: {best_fitness}\")\n"
      ],
      "metadata": {
        "colab": {
          "base_uri": "https://localhost:8080/",
          "height": 489
        },
        "id": "kdsW10ky_Vp3",
        "outputId": "27c90c66-9ac0-49ff-a7af-a2ff1d51f212"
      },
      "execution_count": 11,
      "outputs": [
        {
          "output_type": "display_data",
          "data": {
            "text/plain": [
              "<Figure size 640x480 with 1 Axes>"
            ],
            "image/png": "[encoded data removed]"
          },
          "metadata": {}
        },
        {
          "output_type": "stream",
          "name": "stdout",
          "text": [
            "Best fitness found: 429\n"
          ]
        }
      ]
    }
  ]
}