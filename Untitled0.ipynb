{
  "nbformat": 4,
  "nbformat_minor": 0,
  "metadata": {
    "colab": {
      "provenance": [],
      "mount_file_id": "19r-LvGjYMKFuIUSDFjXYNKzBCfiSJrAY",
      "authorship_tag": "ABX9TyMJKxnlPMmw8VkNX76kyfiS",
      "include_colab_link": true
    },
    "kernelspec": {
      "name": "python3",
      "display_name": "Python 3"
    },
    "language_info": {
      "name": "python"
    }
  },
  "cells": [
    {
      "cell_type": "markdown",
      "metadata": {
        "id": "view-in-github",
        "colab_type": "text"
      },
      "source": [
        "<a href=\"https://colab.research.google.com/github/negarhonarvar/SAT-optimized-solver/blob/main/Untitled0.ipynb\" target=\"_parent\"><img src=\"https://colab.research.google.com/assets/colab-badge.svg\" alt=\"Open In Colab\"/></a>"
      ]
    },
    {
      "cell_type": "code",
      "source": [
        "!pip install python-sat\n",
        "!pip install numpy\n",
        "import pysat as py\n",
        "from pysat.formula import CNF\n",
        "from pysat.solvers import Solver\n",
        "from google.colab import output\n",
        "import random\n",
        "import numpy as np\n",
        "import pandas as pd\n",
        "import re\n",
        "#import Utilities as ut"
      ],
      "metadata": {
        "id": "RZpCWVu6A8mh",
        "colab": {
          "base_uri": "https://localhost:8080/"
        },
        "outputId": "63d22ea4-9e07-44a5-8df8-b6c4b5076fa1"
      },
      "execution_count": 1,
      "outputs": [
        {
          "output_type": "stream",
          "name": "stdout",
          "text": [
            "Looking in indexes: https://pypi.org/simple, https://us-python.pkg.dev/colab-wheels/public/simple/\n",
            "Collecting python-sat\n",
            "  Downloading python_sat-0.1.8.dev7-cp310-cp310-manylinux_2_12_x86_64.manylinux2010_x86_64.whl (2.1 MB)\n",
            "\u001b[2K     \u001b[90m━━━━━━━━━━━━━━━━━━━━━━━━━━━━━━━━━━━━━━━━\u001b[0m \u001b[32m2.1/2.1 MB\u001b[0m \u001b[31m7.4 MB/s\u001b[0m eta \u001b[36m0:00:00\u001b[0m\n",
            "\u001b[?25hRequirement already satisfied: six in /usr/local/lib/python3.10/dist-packages (from python-sat) (1.16.0)\n",
            "Installing collected packages: python-sat\n",
            "Successfully installed python-sat-0.1.8.dev7\n",
            "Looking in indexes: https://pypi.org/simple, https://us-python.pkg.dev/colab-wheels/public/simple/\n",
            "Requirement already satisfied: numpy in /usr/local/lib/python3.10/dist-packages (1.22.4)\n"
          ]
        }
      ]
    },
    {
      "cell_type": "code",
      "source": [
        "# opening and reading the cnf files\n",
        "def read_cnf_file(list):\n",
        "   formula = []\n",
        "\n",
        "   for i in range(4, len(list)):\n",
        "    temp_list = list[i].split(' ')\n",
        "    junk_list = []\n",
        "    if len(formula) == 429:\n",
        "      break\n",
        "    for k in range(5):\n",
        "      if(k % 2 == 0):\n",
        "         num_int = temp_list[k]\n",
        "         if int(num_int) < 0:\n",
        "            junk_list.append( (abs(int(num_int)), 0) )\n",
        "         elif int(num_int) > 0:\n",
        "            junk_list.append( (int(num_int), 1) )\n",
        "    formula.append(junk_list)\n",
        "\n",
        "   return formula"
      ],
      "metadata": {
        "id": "Z2VUC-2ejzB5"
      },
      "execution_count": 2,
      "outputs": []
    },
    {
      "cell_type": "code",
      "source": [
        "# counting number of true prantheses\n",
        "def number_of_true(list):\n",
        "   number_of_trues = 0\n",
        "   for i in range(len(list)):\n",
        "      is_true = list[i][0][1] + list[i][1][1] + list[i][2][1]\n",
        "      if is_true >= 1 :\n",
        "        number_of_trues += 1\n",
        "   return number_of_trues"
      ],
      "metadata": {
        "id": "h9BtOysUkt0i"
      },
      "execution_count": 3,
      "outputs": []
    },
    {
      "cell_type": "code",
      "source": [
        "# creating a random value for noise\n",
        "def create_noise(new_list):\n",
        "#   loc = random.randint(0, len(new_list))\n",
        "#   bit = random.randint(0, 3)\n",
        "#   temp = new_list[loc][bit]\n",
        "#   print(temp)\n",
        "#   sign = list(temp[1])\n",
        "#   if sign == 1:\n",
        "#     sign= 0\n",
        "#   else:\n",
        "#     sign = 1\n",
        "#   new_list[loc][bit] = tuple(sign)\n",
        "#   return new_list\n",
        "\n",
        "  second_list = []\n",
        "  line  = random.randrange(0, 429)\n",
        "  cell  = random.randrange(0, 3)\n",
        "\n",
        "  second_list = new_list.copy()\n",
        "  demo_list = [i for i in second_list]\n",
        "\n",
        "  if demo_list[line][cell] == 1:\n",
        "    demo_list[line][cell][1] = 0\n",
        "  else:\n",
        "    print(  demo_list[line][cell][1])\n",
        "    demo_list[line][cell][1] = 1\n",
        "  second_list[line][cell] = tuple(demo_list)\n",
        "  return second_list\n",
        "\n",
        "\n",
        "def check_second_chance(f, f_temp):\n",
        "  rand = random.uniform(0, 1)\n",
        "  global T\n",
        "\n",
        "  delta_f = abs(f - f_temp)\n",
        "  result = math.exp(-delta_f / T)\n",
        "  return  rand <= result"
      ],
      "metadata": {
        "id": "Zva63er5tud1"
      },
      "execution_count": 4,
      "outputs": []
    },
    {
      "cell_type": "code",
      "source": [
        "# main part\n",
        "# opening and reading the cnf files\n",
        "from google.colab import drive\n",
        "drive.mount('/content/drive')\n",
        "path='/content/drive/MyDrive/Colab Notebooks/Input.cnf'\n",
        "df = CNF(from_file=path)\n",
        "lists= df.clauses\n",
        "read_f = open(path, 'r').read()\n",
        "list = read_f.split(\"\\n\")\n",
        "\n",
        "sample = read_cnf_file(list)\n",
        "number_of_trues = number_of_true(sample)\n",
        "while(number_of_trues != 429):\n",
        "  new_list = sample\n",
        "  new_list = create_noise(new_list)\n",
        "  number_of_temp_trues = number_of_true(new_list)\n",
        "  if number_of_temp_trues > number_of_trues:\n",
        "    sample = new_list\n",
        "    new_list = []\n",
        "    number_of_trues = number_of_temp_trues\n",
        "  else:\n",
        "    if check_second_chance(number_of_trues, number_of_temp_trues):\n",
        "      sample = new_list\n",
        "      new_list = []\n",
        "      number_of_trues = number_of_temp_trues\n",
        "    else:\n",
        "      new_list = []"
      ],
      "metadata": {
        "colab": {
          "base_uri": "https://localhost:8080/",
          "height": 392
        },
        "id": "C4Yf3S5xXVYN",
        "outputId": "697e71b8-33f7-4d63-a69c-9fd127717fcc"
      },
      "execution_count": 7,
      "outputs": [
        {
          "output_type": "stream",
          "name": "stdout",
          "text": [
            "Drive already mounted at /content/drive; to attempt to forcibly remount, call drive.mount(\"/content/drive\", force_remount=True).\n",
            "1\n"
          ]
        },
        {
          "output_type": "error",
          "ename": "TypeError",
          "evalue": "ignored",
          "traceback": [
            "\u001b[0;31m---------------------------------------------------------------------------\u001b[0m",
            "\u001b[0;31mTypeError\u001b[0m                                 Traceback (most recent call last)",
            "\u001b[0;32m<ipython-input-7-947ef492805a>\u001b[0m in \u001b[0;36m<cell line: 13>\u001b[0;34m()\u001b[0m\n\u001b[1;32m     13\u001b[0m \u001b[0;32mwhile\u001b[0m\u001b[0;34m(\u001b[0m\u001b[0mnumber_of_trues\u001b[0m \u001b[0;34m!=\u001b[0m \u001b[0;36m429\u001b[0m\u001b[0;34m)\u001b[0m\u001b[0;34m:\u001b[0m\u001b[0;34m\u001b[0m\u001b[0;34m\u001b[0m\u001b[0m\n\u001b[1;32m     14\u001b[0m   \u001b[0mnew_list\u001b[0m \u001b[0;34m=\u001b[0m \u001b[0msample\u001b[0m\u001b[0;34m\u001b[0m\u001b[0;34m\u001b[0m\u001b[0m\n\u001b[0;32m---> 15\u001b[0;31m   \u001b[0mnew_list\u001b[0m \u001b[0;34m=\u001b[0m \u001b[0mcreate_noise\u001b[0m\u001b[0;34m(\u001b[0m\u001b[0mnew_list\u001b[0m\u001b[0;34m)\u001b[0m\u001b[0;34m\u001b[0m\u001b[0;34m\u001b[0m\u001b[0m\n\u001b[0m\u001b[1;32m     16\u001b[0m   \u001b[0mnumber_of_temp_trues\u001b[0m \u001b[0;34m=\u001b[0m \u001b[0mnumber_of_true\u001b[0m\u001b[0;34m(\u001b[0m\u001b[0mnew_list\u001b[0m\u001b[0;34m)\u001b[0m\u001b[0;34m\u001b[0m\u001b[0;34m\u001b[0m\u001b[0m\n\u001b[1;32m     17\u001b[0m   \u001b[0;32mif\u001b[0m \u001b[0mnumber_of_temp_trues\u001b[0m \u001b[0;34m>\u001b[0m \u001b[0mnumber_of_trues\u001b[0m\u001b[0;34m:\u001b[0m\u001b[0;34m\u001b[0m\u001b[0;34m\u001b[0m\u001b[0m\n",
            "\u001b[0;32m<ipython-input-4-6cb61affaeef>\u001b[0m in \u001b[0;36mcreate_noise\u001b[0;34m(new_list)\u001b[0m\n\u001b[1;32m     24\u001b[0m   \u001b[0;32melse\u001b[0m\u001b[0;34m:\u001b[0m\u001b[0;34m\u001b[0m\u001b[0;34m\u001b[0m\u001b[0m\n\u001b[1;32m     25\u001b[0m     \u001b[0mprint\u001b[0m\u001b[0;34m(\u001b[0m  \u001b[0mdemo_list\u001b[0m\u001b[0;34m[\u001b[0m\u001b[0mline\u001b[0m\u001b[0;34m]\u001b[0m\u001b[0;34m[\u001b[0m\u001b[0mcell\u001b[0m\u001b[0;34m]\u001b[0m\u001b[0;34m[\u001b[0m\u001b[0;36m1\u001b[0m\u001b[0;34m]\u001b[0m\u001b[0;34m)\u001b[0m\u001b[0;34m\u001b[0m\u001b[0;34m\u001b[0m\u001b[0m\n\u001b[0;32m---> 26\u001b[0;31m     \u001b[0mdemo_list\u001b[0m\u001b[0;34m[\u001b[0m\u001b[0mline\u001b[0m\u001b[0;34m]\u001b[0m\u001b[0;34m[\u001b[0m\u001b[0mcell\u001b[0m\u001b[0;34m]\u001b[0m\u001b[0;34m[\u001b[0m\u001b[0;36m1\u001b[0m\u001b[0;34m]\u001b[0m \u001b[0;34m=\u001b[0m \u001b[0;36m1\u001b[0m\u001b[0;34m\u001b[0m\u001b[0;34m\u001b[0m\u001b[0m\n\u001b[0m\u001b[1;32m     27\u001b[0m   \u001b[0msecond_list\u001b[0m\u001b[0;34m[\u001b[0m\u001b[0mline\u001b[0m\u001b[0;34m]\u001b[0m\u001b[0;34m[\u001b[0m\u001b[0mcell\u001b[0m\u001b[0;34m]\u001b[0m \u001b[0;34m=\u001b[0m \u001b[0mtuple\u001b[0m\u001b[0;34m(\u001b[0m\u001b[0mdemo_list\u001b[0m\u001b[0;34m)\u001b[0m\u001b[0;34m\u001b[0m\u001b[0;34m\u001b[0m\u001b[0m\n\u001b[1;32m     28\u001b[0m   \u001b[0;32mreturn\u001b[0m \u001b[0msecond_list\u001b[0m\u001b[0;34m\u001b[0m\u001b[0;34m\u001b[0m\u001b[0m\n",
            "\u001b[0;31mTypeError\u001b[0m: 'tuple' object does not support item assignment"
          ]
        }
      ]
    }
  ]
}