{
  "nbformat": 4,
  "nbformat_minor": 0,
  "metadata": {
    "colab": {
      "provenance": [],
      "authorship_tag": "ABX9TyOvJ/WpYbfQjEPKdUZfO5As",
      "include_colab_link": true
    },
    "kernelspec": {
      "name": "python3",
      "display_name": "Python 3"
    },
    "language_info": {
      "name": "python"
    }
  },
  "cells": [
    {
      "cell_type": "markdown",
      "metadata": {
        "id": "view-in-github",
        "colab_type": "text"
      },
      "source": [
        "<a href=\"https://colab.research.google.com/github/negarhonarvar/SAT-optimized-solver/blob/main/Genetics.ipynb\" target=\"_parent\"><img src=\"https://colab.research.google.com/assets/colab-badge.svg\" alt=\"Open In Colab\"/></a>"
      ]
    },
    {
      "cell_type": "code",
      "execution_count": 1,
      "metadata": {
        "id": "sEQQ1jVC8aHx"
      },
      "outputs": [],
      "source": [
        "import random\n",
        "import math\n",
        "import numpy as np\n",
        "import matplotlib.pyplot as plt"
      ]
    },
    {
      "cell_type": "code",
      "source": [
        "def read_cnf_file(list_create):\n",
        "   formula = []\n",
        "\n",
        "   for i in range(4, len(list_create)):\n",
        "    temp_list = list_create[i].split(' ')\n",
        "    junk_list = []\n",
        "    if len(formula) == 429:\n",
        "      break\n",
        "    for k in range(5):\n",
        "      if(k % 2 == 0):\n",
        "         num_int = temp_list[k]\n",
        "         if int(num_int) < 0:\n",
        "            junk_list.append( (abs(int(num_int)), 0) )\n",
        "         elif int(num_int) > 0:\n",
        "            junk_list.append( (int(num_int), 1) )\n",
        "    formula.append(junk_list)\n",
        "   return formula"
      ],
      "metadata": {
        "id": "c4XSD57M8oHr"
      },
      "execution_count": 2,
      "outputs": []
    },
    {
      "cell_type": "code",
      "source": [
        "def initialize(iteration_numbers):\n",
        "   samples_list = []\n",
        "   for i in range(iteration_numbers):\n",
        "      junk_list = []\n",
        "      for j in range(100):\n",
        "         sign = random.randint(0,1)\n",
        "         junk_list.append(sign)\n",
        "      samples_list.append(junk_list)\n",
        "   return samples_list"
      ],
      "metadata": {
        "id": "SMnAab-O8suK"
      },
      "execution_count": 3,
      "outputs": []
    },
    {
      "cell_type": "code",
      "source": [
        "def number_of_trues(list_trues, sample):\n",
        "    number_of_true = 0\n",
        "    for i in range(len(sample)):\n",
        "       for j in range(3):\n",
        "          value = sample[i][j][0]\n",
        "          sign = sample[i][j][1]\n",
        "          sample_sign = list_trues[value - 1]\n",
        "          if sign == 1:\n",
        "           if sample_sign == 1 :\n",
        "              number_of_true += 1\n",
        "              break\n",
        "          else:\n",
        "           if sample_sign == 0 :\n",
        "              number_of_true += 1\n",
        "              break\n",
        "    return number_of_true"
      ],
      "metadata": {
        "id": "M273IDjE8xvz"
      },
      "execution_count": 4,
      "outputs": []
    },
    {
      "cell_type": "code",
      "source": [
        "def crossover(parents):\n",
        "   childs = []\n",
        "   flag = False\n",
        "   parent_one = 0\n",
        "   parent_two = 0\n",
        "   while flag:\n",
        "      parent_one = random.randint(0, 3)\n",
        "      parent_two = random.randint(0, 3)\n",
        "      if parent_one != parent_two:\n",
        "         flag = True\n",
        "\n",
        "   temp1 = parents[parent_one]\n",
        "   temp2 =  parents[parent_two]\n",
        "\n",
        "   parents.pop(parent_one)\n",
        "   parents.pop(parent_two)\n",
        "\n",
        "   crossover_points = random.randint(60, 95)\n",
        "   for i in range(crossover_points, 100):\n",
        "      temp = temp1[i]\n",
        "      temp1[i] = temp2[i]\n",
        "      temp2[i] = temp\n",
        "\n",
        "   childs.append(temp1)\n",
        "   childs.append(temp2)\n",
        "\n",
        "   temp3 = parents[0]\n",
        "   temp4 = parents[1]\n",
        "\n",
        "   crossover_points = random.randint(60, 95)\n",
        "   for i in range(crossover_points, 100):\n",
        "      temp = temp3[i]\n",
        "      temp3[i] = temp4[i]\n",
        "      temp4[i] = temp\n",
        "\n",
        "   childs.append(temp3)\n",
        "   childs.append(temp4)\n",
        "\n",
        "   parents.clear()\n",
        "\n",
        "   return childs\n"
      ],
      "metadata": {
        "id": "CxvO5Gu982dm"
      },
      "execution_count": 5,
      "outputs": []
    },
    {
      "cell_type": "code",
      "source": [
        "def mutation(childs):\n",
        "   random_bit = random.randint(0, 99)\n",
        "   for i in range(len(childs)):\n",
        "      if childs[i][random_bit] == 1:\n",
        "         childs[i][random_bit] = 0\n",
        "      else:\n",
        "         childs[i][random_bit] = 1\n",
        "   return childs"
      ],
      "metadata": {
        "id": "ranE2Uhr882B"
      },
      "execution_count": 6,
      "outputs": []
    },
    {
      "cell_type": "code",
      "source": [
        "# reading from cnf file\n",
        "from google.colab import drive\n",
        "drive.mount('/content/drive')\n",
        "path='/content/drive/MyDrive/Colab Notebooks/Input.cnf'\n",
        "#df = CNF(from_file=path)\n",
        "#lists= df.clauses\n",
        "read_f = open(path, 'r').read()\n",
        "first_list = read_f.split(\"\\n\")\n",
        "sample = read_cnf_file(first_list)\n",
        "\n",
        "# creating 8 samples of 100 variables\n",
        "data_list = initialize(8)\n",
        "\n",
        "point_list = []\n",
        "itr_list = []\n",
        "\n",
        "trues_list = []\n",
        "for i in range(8):\n",
        "  trues_list.append(number_of_trues(data_list[i], sample))\n",
        "\n",
        "itr_list.append(0)\n",
        "point_list.append(max(trues_list))\n",
        "\n",
        "for i in range(1, 1000):\n",
        "   itr_list.append(i)\n",
        "   trues_list = []\n",
        "   parents = []\n",
        "   for j in range(4):\n",
        "      random_parent = random.randint(0, len(data_list) - 1)\n",
        "      parents.append(data_list[random_parent])\n",
        "      data_list.pop(random_parent)\n",
        "   data_list.clear()\n",
        "   for j in range(4):\n",
        "      data_list.append(parents[j])\n",
        "\n",
        "   childs__crossover_list = crossover(parents)\n",
        "\n",
        "   childs_list = mutation(childs__crossover_list)\n",
        "\n",
        "   for j in range(4):\n",
        "      data_list.append(childs_list[j])\n",
        "\n",
        "   for i in range(8):\n",
        "       trues_list.append(number_of_trues(data_list[i], sample))\n",
        "\n",
        "   point_list.append(max(trues_list))\n",
        "\n",
        "\n",
        "plt.plot(itr_list, point_list)\n",
        "plt.show()\n"
      ],
      "metadata": {
        "colab": {
          "base_uri": "https://localhost:8080/",
          "height": 447
        },
        "id": "UxhNYa3p9A8d",
        "outputId": "a95018e5-eab7-4237-f84f-6b55b5753606"
      },
      "execution_count": 11,
      "outputs": [
        {
          "output_type": "stream",
          "name": "stdout",
          "text": [
            "Drive already mounted at /content/drive; to attempt to forcibly remount, call drive.mount(\"/content/drive\", force_remount=True).\n"
          ]
        },
        {
          "output_type": "display_data",
          "data": {
            "text/plain": [
              "<Figure size 640x480 with 1 Axes>"
            ],
            "image/png": "[encoded data removed]"
          },
          "metadata": {}
        }
      ]
    }
  ]
}