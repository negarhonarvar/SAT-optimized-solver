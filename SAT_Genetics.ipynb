{
  "nbformat": 4,
  "nbformat_minor": 0,
  "metadata": {
    "colab": {
      "provenance": [],
      "authorship_tag": "ABX9TyPkP2S9seLDvVEB1ivFWo3+",
      "include_colab_link": true
    },
    "kernelspec": {
      "name": "python3",
      "display_name": "Python 3"
    },
    "language_info": {
      "name": "python"
    }
  },
  "cells": [
    {
      "cell_type": "markdown",
      "metadata": {
        "id": "view-in-github",
        "colab_type": "text"
      },
      "source": [
        "<a href=\"https://colab.research.google.com/github/negarhonarvar/SAT-optimized-solver/blob/main/SAT_Genetics.ipynb\" target=\"_parent\"><img src=\"https://colab.research.google.com/assets/colab-badge.svg\" alt=\"Open In Colab\"/></a>"
      ]
    },
    {
      "cell_type": "markdown",
      "source": [
        "# Libraries"
      ],
      "metadata": {
        "id": "BtrPjmYFC67L"
      }
    },
    {
      "cell_type": "code",
      "execution_count": null,
      "metadata": {
        "id": "sEQQ1jVC8aHx"
      },
      "outputs": [],
      "source": [
        "import random\n",
        "import math\n",
        "import numpy as np\n",
        "import matplotlib.pyplot as plt"
      ]
    },
    {
      "cell_type": "code",
      "source": [
        "from google.colab import drive\n",
        "drive.mount('/content/drive')\n",
        "path = '/content/drive/MyDrive/Colab Notebooks/Input.cnf'"
      ],
      "metadata": {
        "id": "xfdsXqdwDJoE",
        "outputId": "1c64fc25-a24d-4170-9a95-7997db54321f",
        "colab": {
          "base_uri": "https://localhost:8080/"
        }
      },
      "execution_count": null,
      "outputs": [
        {
          "output_type": "stream",
          "name": "stdout",
          "text": [
            "Mounted at /content/drive\n"
          ]
        }
      ]
    },
    {
      "cell_type": "markdown",
      "source": [
        "# Reading the CNF File"
      ],
      "metadata": {
        "id": "VcqexzKRDgTT"
      }
    },
    {
      "cell_type": "code",
      "source": [
        "def read_cnf_file(file_path):\n",
        "    formula = []\n",
        "    with open(file_path, 'r') as f:\n",
        "        lines = f.readlines()\n",
        "        for line in lines:\n",
        "            if line.startswith('c') or line.startswith('p') or line.strip() == '':\n",
        "                continue\n",
        "            temp_list = line.split()[:-1]\n",
        "            clause = []\n",
        "            for num in temp_list:\n",
        "                literal = int(num)\n",
        "                clause.append((abs(literal), 1 if literal > 0 else 0))\n",
        "            formula.append(clause)\n",
        "    return formula"
      ],
      "metadata": {
        "id": "c4XSD57M8oHr"
      },
      "execution_count": null,
      "outputs": []
    },
    {
      "cell_type": "markdown",
      "source": [
        "# Genetics Algorithm Implementation"
      ],
      "metadata": {
        "id": "PDrKeC5UDplM"
      }
    },
    {
      "cell_type": "code",
      "source": [
        "def initialize_population(pop_size, var_count):\n",
        "    population = []\n",
        "    for _ in range(pop_size):\n",
        "        individual = [random.randint(0, 1) for _ in range(var_count)]\n",
        "        population.append(individual)\n",
        "    return population"
      ],
      "metadata": {
        "id": "SMnAab-O8suK"
      },
      "execution_count": null,
      "outputs": []
    },
    {
      "cell_type": "code",
      "source": [
        "def count_satisfied_clauses(individual, formula):\n",
        "    satisfied_count = 0\n",
        "    for clause in formula:\n",
        "        if any(individual[lit[0] - 1] == lit[1] for lit in clause):\n",
        "            satisfied_count += 1\n",
        "    return satisfied_count"
      ],
      "metadata": {
        "id": "M273IDjE8xvz"
      },
      "execution_count": null,
      "outputs": []
    },
    {
      "cell_type": "code",
      "source": [
        "def crossover(parents):\n",
        "    cross_point = random.randint(60, 95)  # Arbitrary crossover range\n",
        "    parent_one, parent_two = random.sample(parents, 2)\n",
        "\n",
        "    child1 = parent_one[:cross_point] + parent_two[cross_point:]\n",
        "    child2 = parent_two[:cross_point] + parent_one[cross_point:]\n",
        "\n",
        "    return [child1, child2]\n"
      ],
      "metadata": {
        "id": "CxvO5Gu982dm"
      },
      "execution_count": null,
      "outputs": []
    },
    {
      "cell_type": "code",
      "source": [
        "def mutate(children, mutation_rate=0.01):\n",
        "    for child in children:\n",
        "        if random.random() < mutation_rate:\n",
        "            mutate_point = random.randint(0, len(child) - 1)\n",
        "            child[mutate_point] = 1 - child[mutate_point]  # Flip the bit\n",
        "    return children"
      ],
      "metadata": {
        "id": "ranE2Uhr882B"
      },
      "execution_count": null,
      "outputs": []
    },
    {
      "cell_type": "code",
      "source": [
        "def genetic_algorithm(formula, pop_size=8, generations=1000):\n",
        "    var_count = 100\n",
        "    population = initialize_population(pop_size, var_count)\n",
        "\n",
        "    best_fitness = 0\n",
        "    fitness_history = []\n",
        "\n",
        "    for gen in range(generations):\n",
        "        fitness_values = [count_satisfied_clauses(individual, formula) for individual in population]\n",
        "\n",
        "        max_fitness = max(fitness_values)\n",
        "        fitness_history.append(max_fitness)\n",
        "        if max_fitness > best_fitness:\n",
        "            best_fitness = max_fitness\n",
        "\n",
        "        sorted_population = [x for _, x in sorted(zip(fitness_values, population), reverse=True)]\n",
        "        parents = sorted_population[:4]\n",
        "        children = []\n",
        "        while len(children) < pop_size:\n",
        "            children.extend(crossover(parents))\n",
        "\n",
        "        population = mutate(children[:pop_size])\n",
        "\n",
        "    plt.plot(range(generations), fitness_history)\n",
        "    plt.xlabel('Generation')\n",
        "    plt.ylabel('Best Fitness (Satisfied Clauses)')\n",
        "    plt.title('Genetic Algorithm Optimization Progress')\n",
        "    plt.show()\n",
        "\n",
        "    return best_fitness"
      ],
      "metadata": {
        "id": "yF2qQAi2EDBK"
      },
      "execution_count": null,
      "outputs": []
    },
    {
      "cell_type": "markdown",
      "source": [
        "# Main"
      ],
      "metadata": {
        "id": "EpVuBEK5D7io"
      }
    },
    {
      "cell_type": "code",
      "source": [
        "formula = read_cnf_file(path)\n",
        "best_solution_fitness = genetic_algorithm(formula, pop_size=8, generations=1000)\n",
        "print(f\"Best solution satisfies {best_solution_fitness} clauses.\")"
      ],
      "metadata": {
        "colab": {
          "base_uri": "https://localhost:8080/",
          "height": 509
        },
        "id": "UxhNYa3p9A8d",
        "outputId": "58916432-b8dd-4daa-defd-70789255edc4"
      },
      "execution_count": null,
      "outputs": [
        {
          "output_type": "display_data",
          "data": {
            "text/plain": [
              "<Figure size 640x480 with 1 Axes>"
            ],
            "image/png": "[encoded data removed]"
          },
          "metadata": {}
        },
        {
          "output_type": "stream",
          "name": "stdout",
          "text": [
            "Best solution satisfies 403 clauses.\n"
          ]
        }
      ]
    }
  ]
}